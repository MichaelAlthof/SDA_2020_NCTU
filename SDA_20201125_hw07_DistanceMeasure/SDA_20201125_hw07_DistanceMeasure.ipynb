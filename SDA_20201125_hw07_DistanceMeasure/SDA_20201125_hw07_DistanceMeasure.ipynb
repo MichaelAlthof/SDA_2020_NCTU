{
  "nbformat": 4,
  "nbformat_minor": 0,
  "metadata": {
    "colab": {
      "name": "Hw07.ipynb",
      "provenance": [],
      "collapsed_sections": []
    },
    "kernelspec": {
      "name": "python3",
      "display_name": "Python 3"
    }
  },
  "cells": [
    {
      "cell_type": "code",
      "metadata": {
        "id": "DcXsncGaV3XU"
      },
      "source": [
        "import pandas as pd\n",
        "import numpy as np\n",
        "from sklearn.neighbors import DistanceMetric"
      ],
      "execution_count": 32,
      "outputs": []
    },
    {
      "cell_type": "code",
      "metadata": {
        "colab": {
          "base_uri": "https://localhost:8080/",
          "height": 173
        },
        "id": "q2iFAJgMV-Wf",
        "outputId": "5a661ac3-799d-48d3-9a72-42d360b2ee5c"
      },
      "source": [
        "### load csv file, \n",
        "### regions: ME, NH, NY\n",
        "\n",
        "df = pd.read_csv('ushealth05.csv', usecols=range(0,17))\n",
        "df_ushealth = df.iloc[[19, 29, 32],:]\n",
        "df_ushealth = df_ushealth.drop(['Area', 'All'], axis=1)\n",
        "df_ushealth.head(3)"
      ],
      "execution_count": 33,
      "outputs": [
        {
          "output_type": "execute_result",
          "data": {
            "text/html": [
              "<div>\n",
              "<style scoped>\n",
              "    .dataframe tbody tr th:only-of-type {\n",
              "        vertical-align: middle;\n",
              "    }\n",
              "\n",
              "    .dataframe tbody tr th {\n",
              "        vertical-align: top;\n",
              "    }\n",
              "\n",
              "    .dataframe thead th {\n",
              "        text-align: right;\n",
              "    }\n",
              "</style>\n",
              "<table border=\"1\" class=\"dataframe\">\n",
              "  <thead>\n",
              "    <tr style=\"text-align: right;\">\n",
              "      <th></th>\n",
              "      <th>HIV</th>\n",
              "      <th>Malignant</th>\n",
              "      <th>Diabetes</th>\n",
              "      <th>Alzheimer</th>\n",
              "      <th>Heart</th>\n",
              "      <th>TIA</th>\n",
              "      <th>Influenza</th>\n",
              "      <th>Respiratory Diseases</th>\n",
              "      <th>Liver</th>\n",
              "      <th>Nephritis</th>\n",
              "      <th>Accidents</th>\n",
              "      <th>Vehicle Accidents</th>\n",
              "      <th>Suicide</th>\n",
              "      <th>Assault</th>\n",
              "      <th>Firearms</th>\n",
              "    </tr>\n",
              "  </thead>\n",
              "  <tbody>\n",
              "    <tr>\n",
              "      <th>19</th>\n",
              "      <td>11.0</td>\n",
              "      <td>3218.0</td>\n",
              "      <td>385.0</td>\n",
              "      <td>476.0</td>\n",
              "      <td>2941.0</td>\n",
              "      <td>693.0</td>\n",
              "      <td>352.0</td>\n",
              "      <td>830.0</td>\n",
              "      <td>116.0</td>\n",
              "      <td>250.0</td>\n",
              "      <td>579.0</td>\n",
              "      <td>192.0</td>\n",
              "      <td>175.0</td>\n",
              "      <td>22.0</td>\n",
              "      <td>109.0</td>\n",
              "    </tr>\n",
              "    <tr>\n",
              "      <th>29</th>\n",
              "      <td>13.0</td>\n",
              "      <td>2549.0</td>\n",
              "      <td>310.0</td>\n",
              "      <td>376.0</td>\n",
              "      <td>2530.0</td>\n",
              "      <td>497.0</td>\n",
              "      <td>273.0</td>\n",
              "      <td>630.0</td>\n",
              "      <td>114.0</td>\n",
              "      <td>173.0</td>\n",
              "      <td>477.0</td>\n",
              "      <td>162.0</td>\n",
              "      <td>162.0</td>\n",
              "      <td>19.0</td>\n",
              "      <td>88.0</td>\n",
              "    </tr>\n",
              "    <tr>\n",
              "      <th>32</th>\n",
              "      <td>1644.0</td>\n",
              "      <td>35556.0</td>\n",
              "      <td>4051.0</td>\n",
              "      <td>2065.0</td>\n",
              "      <td>51985.0</td>\n",
              "      <td>6622.0</td>\n",
              "      <td>5521.0</td>\n",
              "      <td>6818.0</td>\n",
              "      <td>1224.0</td>\n",
              "      <td>2360.0</td>\n",
              "      <td>4645.0</td>\n",
              "      <td>1530.0</td>\n",
              "      <td>1189.0</td>\n",
              "      <td>901.0</td>\n",
              "      <td>1019.0</td>\n",
              "    </tr>\n",
              "  </tbody>\n",
              "</table>\n",
              "</div>"
            ],
            "text/plain": [
              "       HIV  Malignant  Diabetes  ...  Suicide   Assault  Firearms\n",
              "19    11.0     3218.0     385.0  ...     175.0     22.0     109.0\n",
              "29    13.0     2549.0     310.0  ...     162.0     19.0      88.0\n",
              "32  1644.0    35556.0    4051.0  ...    1189.0    901.0    1019.0\n",
              "\n",
              "[3 rows x 15 columns]"
            ]
          },
          "metadata": {
            "tags": []
          },
          "execution_count": 33
        }
      ]
    },
    {
      "cell_type": "code",
      "metadata": {
        "colab": {
          "base_uri": "https://localhost:8080/"
        },
        "id": "-_CK1XBAXEab",
        "outputId": "97321feb-5548-4d88-b25b-611a40e1697e"
      },
      "source": [
        "ushealth_list = np.array(df_ushealth).astype(float)\n",
        "print(\"Data dimension: \",np.shape(ushealth_list))\n",
        "print(ushealth_list)"
      ],
      "execution_count": 34,
      "outputs": [
        {
          "output_type": "stream",
          "text": [
            "Data dimension:  (3, 15)\n",
            "[[1.1000e+01 3.2180e+03 3.8500e+02 4.7600e+02 2.9410e+03 6.9300e+02\n",
            "  3.5200e+02 8.3000e+02 1.1600e+02 2.5000e+02 5.7900e+02 1.9200e+02\n",
            "  1.7500e+02 2.2000e+01 1.0900e+02]\n",
            " [1.3000e+01 2.5490e+03 3.1000e+02 3.7600e+02 2.5300e+03 4.9700e+02\n",
            "  2.7300e+02 6.3000e+02 1.1400e+02 1.7300e+02 4.7700e+02 1.6200e+02\n",
            "  1.6200e+02 1.9000e+01 8.8000e+01]\n",
            " [1.6440e+03 3.5556e+04 4.0510e+03 2.0650e+03 5.1985e+04 6.6220e+03\n",
            "  5.5210e+03 6.8180e+03 1.2240e+03 2.3600e+03 4.6450e+03 1.5300e+03\n",
            "  1.1890e+03 9.0100e+02 1.0190e+03]]\n"
          ],
          "name": "stdout"
        }
      ]
    },
    {
      "cell_type": "code",
      "metadata": {
        "colab": {
          "base_uri": "https://localhost:8080/"
        },
        "id": "F1kEYkySXIs3",
        "outputId": "9f6a9c5a-6d74-4c44-ae98-baeabdd249a5"
      },
      "source": [
        "### Euclidean distance\n",
        "\n",
        "dist = DistanceMetric.get_metric('euclidean')\n",
        "dist_eu = np.around(dist.pairwise(ushealth_list), decimals=1, out=None)\n",
        "\n",
        "print(\"Euclidean Distance: \\n\", dist_Euc)"
      ],
      "execution_count": 35,
      "outputs": [
        {
          "output_type": "stream",
          "text": [
            "Euclidean Distance: \n",
            " [[    0.    857.1 59950.4]\n",
            " [  857.1     0.  60713. ]\n",
            " [59950.4 60713.      0. ]]\n"
          ],
          "name": "stdout"
        }
      ]
    },
    {
      "cell_type": "code",
      "metadata": {
        "colab": {
          "base_uri": "https://localhost:8080/"
        },
        "id": "uqIKxfKNXMgM",
        "outputId": "558758fe-5893-42b4-cca4-f0a58cc40a35"
      },
      "source": [
        "### Manhattan distance\n",
        "\n",
        "dist = DistanceMetric.get_metric('manhattan')\n",
        "dist_man = np.around(dist.pairwise(ushealth_list), decimals=2, out=None)\n",
        "\n",
        "print(\"Manhattan Distance: \\n\", dist_Man)"
      ],
      "execution_count": 36,
      "outputs": [
        {
          "output_type": "stream",
          "text": [
            "Manhattan Distance: \n",
            " [[     0.   1980. 116781.]\n",
            " [  1980.      0. 118757.]\n",
            " [116781. 118757.      0.]]\n"
          ],
          "name": "stdout"
        }
      ]
    },
    {
      "cell_type": "code",
      "metadata": {
        "colab": {
          "base_uri": "https://localhost:8080/"
        },
        "id": "jv3Sv25tXP2y",
        "outputId": "f64373e5-4b59-41f4-8c03-d6d95602fe5c"
      },
      "source": [
        "### Maximum distance\n",
        "\n",
        "dist = DistanceMetric.get_metric('chebyshev')\n",
        "dist_max = np.around(dist.pairwise(ushealth_list), decimals=2, out=None)\n",
        "\n",
        "print(\"Maximum Distance: \\n\", dist_Max)"
      ],
      "execution_count": 37,
      "outputs": [
        {
          "output_type": "stream",
          "text": [
            "Maximum Distance: \n",
            " [[    0.   669. 49044.]\n",
            " [  669.     0. 49455.]\n",
            " [49044. 49455.     0.]]\n"
          ],
          "name": "stdout"
        }
      ]
    }
  ]
}
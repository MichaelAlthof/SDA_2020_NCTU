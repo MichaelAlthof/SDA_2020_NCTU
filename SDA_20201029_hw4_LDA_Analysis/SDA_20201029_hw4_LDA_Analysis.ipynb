{
  "nbformat": 4,
  "nbformat_minor": 0,
  "metadata": {
    "colab": {
      "name": "Task_2.ipynb",
      "provenance": [],
      "collapsed_sections": []
    },
    "kernelspec": {
      "display_name": "Python 3",
      "name": "python3"
    }
  },
  "cells": [
    {
      "cell_type": "code",
      "metadata": {
        "id": "dhWkyE1MUXvw"
      },
      "source": [
        "pip install feedparser"
      ],
      "execution_count": null,
      "outputs": []
    },
    {
      "cell_type": "code",
      "metadata": {
        "id": "NP7-S1ZQYoPY"
      },
      "source": [
        "import feedparser\n",
        "content = feedparser.parse(\"https://www.ft.com/?edition=international&format=rss\")\n",
        "print(\"\\nTitles-------------------------\\n\")\n",
        "for index, item in enumerate(content.entries):\n",
        "  print(\"{0}.{1}\".format(index, item[\"title\"]))"
      ],
      "execution_count": null,
      "outputs": []
    },
    {
      "cell_type": "code",
      "metadata": {
        "id": "9hHrevqKYt3B"
      },
      "source": [
        "import requests  # take the website source code back to you\n",
        "import urllib  # some useful functions to deal with website URLs\n",
        "from bs4 import BeautifulSoup as soup  # a package to parse website source code\n",
        "import numpy as np  # all the numerical calculation related methods\n",
        "import re  # regular expression package\n",
        "import itertools  # a package to do iteration works\n",
        "import pickle  # a package to save your file temporarily\n",
        "import pandas as pd  # process structured data\n",
        "import os"
      ],
      "execution_count": 3,
      "outputs": []
    },
    {
      "cell_type": "code",
      "metadata": {
        "id": "FXmJp4X7ZGFv"
      },
      "source": [
        "sub_dir = os.getcwd() + '/DEDA_class2019_SYSU_Abstract_LDA_Crawler/'\n",
        "cwd_dir = sub_dir if os.path.exists(sub_dir) else os.getcwd()  # the path you save your files\n",
        "base_link = 'http://www.wiwi.hu-berlin.de/de/forschung/irtg/results/discussion-papers'  # This link can represent the domain of a series of websites\n",
        "abs_link = 'https://www.wiwi.hu-berlin.de/de/forschung/irtg/results/'\n",
        "# abs_folder = cwd_dir + 'Abstracts/'\n",
        "# os.makedirs(abs_folder, exist_ok=True)\n",
        "\n",
        "\n",
        "request_result = requests.get(base_link, headers={'Connection': 'close'})  # get source code\n",
        "parsed = soup(request_result.content)  # parse source code\n",
        "tr_items = parsed.find_all('tr')\n",
        "info_list = []\n",
        "for item in tr_items:\n",
        "    link_list = item.find_all('td')\n",
        "    try:\n",
        "        paper_title = re.sub(pattern=r'\\s+', repl=' ', string=link_list[1].text.strip())\n",
        "        author = link_list[2].text\n",
        "        date_of_issue = link_list[3].text\n",
        "        abstract_link = link_list[5].find('a')['href']\n",
        "        info_list.append([paper_title, author, date_of_issue, abstract_link])\n",
        "    except Exception as e:\n",
        "        print(e)\n",
        "        print(link_list[5])\n",
        "        continue\n",
        "abstract_all = list()\n",
        "for paper in info_list:\n",
        "    print(paper[0])\n",
        "    try:\n",
        "        paper_abstract_page = requests.get(abs_link + paper[3], headers={'Connection': 'close'})\n",
        "\n",
        "        if paper_abstract_page.status_code == 200:\n",
        "            # if paper[3][-3:] == 'txt':\n",
        "            abstract_parsed = soup(paper_abstract_page.content)\n",
        "            main_part = abstract_parsed.find_all('div', attrs={'id': r'content-core'})[0].text.strip()\n",
        "            # if paper[3][-3:] == 'pdf':\n",
        "            #     abstract_parsed = soup(paper_abstract_page.content)\n",
        "            #     main_part = abstract_parsed.find_all('body')[0].text.strip()\n",
        "\n",
        "            main_part = re.sub(r'.+?[Aa]bstract', 'Abstract', main_part)\n",
        "            main_part = re.sub(r'JEL [Cc]lassification:.*', '', main_part)\n",
        "            main_part = re.sub(r'[A-Za-z][0-9][0-9]?', '', main_part)\n",
        "            main_part = re.sub('[\\r\\n]+', ' ', main_part)\n",
        "\n",
        "            abstract_all.append(main_part + \"\\nSEP\\n\")\n",
        "\n",
        "        else:\n",
        "            raise ConnectionError(f\"Can not access the website. Error Code: {paper_abstract_page.status_code}\")\n",
        "        # with open(abs_folder + f\"{re.sub('[^a-zA-Z0-9 ]', '', paper[0])}.txt\", 'w', encoding='utf-8') as abs_f:\n",
        "        #     abs_f.write(main_part)\n",
        "\n",
        "    except Exception as e:\n",
        "        print(e)\n",
        "        print(paper[3])\n",
        "        continue\n",
        "\n",
        "with open(cwd_dir + 'Abstract_all.txt', 'w') as abs_all_f:\n",
        "    abs_all_f.writelines(abstract_all)"
      ],
      "execution_count": null,
      "outputs": []
    },
    {
      "cell_type": "code",
      "metadata": {
        "id": "WNKsYJ9UaT1D"
      },
      "source": [
        "abstract_all"
      ],
      "execution_count": null,
      "outputs": []
    },
    {
      "cell_type": "code",
      "metadata": {
        "id": "pNpptrmgak6B"
      },
      "source": [
        "import random\n",
        "import os\n",
        "import re\n",
        "import nltk\n",
        "nltk.download('punkt')\n",
        "nltk.download('stopwords')\n",
        "from os import path\n",
        "from nltk.stem import WordNetLemmatizer \n",
        "from nltk.stem.porter import PorterStemmer\n",
        "from nltk.corpus import stopwords\n",
        "from nltk.corpus import stopwords \n",
        "from nltk.stem.wordnet import WordNetLemmatizer\n",
        "import string\n",
        "import gensim\n",
        "from gensim import corpora\n",
        "import matplotlib.pyplot as plt\n",
        "import pandas as pd\n",
        "import numpy as np"
      ],
      "execution_count": null,
      "outputs": []
    },
    {
      "cell_type": "code",
      "metadata": {
        "id": "HTYu2k2Waxbw"
      },
      "source": [
        "doc_l = abstract_all\n",
        "#doc_l.pop()[0]\n",
        "doc_complete = doc_l\n",
        "doc_out = []\n",
        "for l in doc_l:\n",
        "    \n",
        "    cleantextprep = str(l)\n",
        "    \n",
        "    # Regex cleaning\n",
        "    expression = \"[^a-zA-Z ]\" # keep only letters, numbers and whitespace\n",
        "    cleantextCAP = re.sub(expression, ' ', cleantextprep) # apply regex\n",
        "    cleantextCAP = re.sub('\\s+', ' ', cleantextCAP) # apply regex\n",
        "    cleantext = cleantextCAP.lower() # lower case \n",
        "    bound = ''.join(cleantext)\n",
        "    doc_out.append(bound)\n",
        "\n",
        "doc_complete = doc_out\n",
        "stop = set(stopwords.words('english'))\n",
        "stop = stop.union({'result','keywords','study','using','paper','abstract','f','x','e','result','topic','proposed','one'})\n",
        "exclude = set(string.punctuation) \n",
        "lemma = WordNetLemmatizer()\n",
        "import nltk\n",
        "nltk.download('wordnet')\n",
        "def clean(doc):\n",
        "    stop_free = \" \".join([i for i in doc.lower().split() if i not in stop])\n",
        "    punc_free = ''.join(ch for ch in stop_free if ch not in exclude)\n",
        "    normalized = \" \".join(lemma.lemmatize(word) for word in punc_free.split())\n",
        "    return normalized\n",
        "\n",
        "\n",
        "doc_clean = [clean(doc).split() for doc in doc_complete]\n",
        "\n",
        "# Importing Gensim\n",
        "\n",
        "\n",
        "# Creating the term dictionary of our courpus, where every unique term is assigned an index.\n",
        "dictionary = corpora.Dictionary(doc_clean)\n",
        "\n",
        "# Converting list of documents (corpus) into Document Term Matrix using dictionary prepared above.\n",
        "doc_term_matrix = [dictionary.doc2bow(doc) for doc in doc_clean]\n",
        "\n",
        "# Creating the object for LDA model using gensim library\n",
        "Lda = gensim.models.ldamodel.LdaModel\n",
        "\n",
        "# Running and Trainign LDA model on the document term matrix.\n",
        "ldamodel = Lda(doc_term_matrix, num_topics=6, id2word = dictionary, passes=50, random_state = 3154)\n",
        "\n",
        "#print(ldamodel.print_topics(num_topics=6, num_words=5))\n",
        "K=6\n",
        "topicWordProbMat=ldamodel.print_topics(K)\n",
        "\n",
        "columns = ['1','2','3','4','5', '6']\n",
        "df = pd.DataFrame(columns = columns)\n",
        "pd.set_option('display.width', 1000)\n",
        "\n",
        "# 20 need to modify to match the length of vocabulary \n",
        "zz = np.zeros(shape=(100,K))\n",
        "\n",
        "last_number=0\n",
        "DC={}\n",
        "\n",
        "for x in range (100):\n",
        "  data = pd.DataFrame({columns[0]:\"\",\n",
        "                     columns[1]:\"\",\n",
        "                     columns[2]:\"\",\n",
        "                     columns[3]:\"\",\n",
        "                     columns[4]:\"\", \n",
        "                     columns[5]:\"\",                                                                                                 \n",
        "                    },index=[0])\n",
        "  df=df.append(data,ignore_index=True)  \n",
        "\n",
        "for line in topicWordProbMat:\n",
        "    \n",
        "    tp, w = line\n",
        "    probs=w.split(\"+\")\n",
        "    y=0\n",
        "    for pr in probs:\n",
        "               \n",
        "        a=pr.split(\"*\")\n",
        "        df.iloc[y,tp] = a[1]\n",
        "        a[1] = a[1].strip()\n",
        "        if a[1] in DC:\n",
        "           zz[DC[a[1]]][tp]=a[0]\n",
        "        else:\n",
        "           zz[last_number][tp]=a[0]\n",
        "           DC[a[1]]=last_number\n",
        "           last_number=last_number+1\n",
        "        y=y+1\n",
        "\n",
        "print (df)\n",
        "print (zz)"
      ],
      "execution_count": null,
      "outputs": []
    },
    {
      "cell_type": "code",
      "metadata": {
        "id": "X6vDaPncbMY5"
      },
      "source": [
        ""
      ],
      "execution_count": null,
      "outputs": []
    },
    {
      "cell_type": "code",
      "metadata": {
        "id": "irwUy6S1bVpn",
        "outputId": "64655ada-50c0-4bf9-a434-068daff7fcd5",
        "colab": {
          "base_uri": "https://localhost:8080/",
          "height": 1000
        }
      },
      "source": [
        "zz=np.resize(zz,(len(DC.keys()),zz.shape[1]))\n",
        "plt.figure(figsize=(80,25))\n",
        "for val, key in enumerate(DC.keys()):\n",
        "        plt.text(-2.5, val + 0.5, key,\n",
        "                 horizontalalignment='center',\n",
        "                 verticalalignment='center'\n",
        "                 )\n",
        "#plt.imshow(zz, cmap='hot', interpolation='nearest')\n",
        "plt.imshow(zz, cmap='rainbow', interpolation='nearest')\n",
        "#plt.show()\n",
        "plt.yticks([])\n",
        "# plt.title(\"heatmap xmas song\")\n",
        "plt.savefig(\"heatmap_abstract.png\", transparent = True, dpi=400)"
      ],
      "execution_count": 8,
      "outputs": [
        {
          "output_type": "display_data",
          "data": {
            "image/png": "[encoded data removed]",
            "text/plain": [
              "<Figure size 5760x1800 with 1 Axes>"
            ]
          },
          "metadata": {
            "tags": [],
            "needs_background": "light"
          }
        }
      ]
    }
  ]
}
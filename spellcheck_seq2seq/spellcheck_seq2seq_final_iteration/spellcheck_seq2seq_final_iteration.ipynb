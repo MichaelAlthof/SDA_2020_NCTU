{
 "cells": [
  {
   "cell_type": "code",
   "execution_count": 1,
   "metadata": {
    "ExecuteTime": {
     "end_time": "2020-04-26T13:28:34.726693Z",
     "start_time": "2020-04-26T13:28:33.958681Z"
    }
   },
   "outputs": [],
   "source": [
    "from __future__ import unicode_literals, print_function, division\n",
    "from io import open\n",
    "import unicodedata\n",
    "import string\n",
    "import re\n",
    "import random\n",
    "import time\n",
    "import math\n",
    "import torch\n",
    "import torch.nn as nn\n",
    "from torch import optim\n",
    "import torch.nn.functional as F\n",
    "from torch.utils import data\n",
    "import matplotlib.pyplot as plt\n",
    "plt.switch_backend('agg')\n",
    "import matplotlib.ticker as ticker\n",
    "import numpy as np\n",
    "import pandas as pd\n",
    "import json\n",
    "from os import system\n",
    "from nltk.translate.bleu_score import SmoothingFunction, sentence_bleu"
   ]
  },
  {
   "cell_type": "code",
   "execution_count": 2,
   "metadata": {
    "ExecuteTime": {
     "end_time": "2020-04-26T13:37:29.375107Z",
     "start_time": "2020-04-26T13:37:29.371121Z"
    }
   },
   "outputs": [],
   "source": [
    "device = torch.device(\"cuda\" if torch.cuda.is_available() else \"cpu\")\n",
    "SOS_token = 0\n",
    "EOS_token = 1\n",
    "#----------Hyper Parameters----------#\n",
    "hidden_size = 256\n",
    "#The number of vocabulary\n",
    "vocab_size = 30 #29\n",
    "learning_rate = 0.1\n",
    "teacher_forcing_ratio = 1.0\n",
    "MAX_LENGTH = 19\n",
    "# torch.manual_seed(1236)"
   ]
  },
  {
   "cell_type": "code",
   "execution_count": 3,
   "metadata": {
    "ExecuteTime": {
     "end_time": "2020-04-26T13:28:34.756210Z",
     "start_time": "2020-04-26T13:28:34.752928Z"
    }
   },
   "outputs": [],
   "source": [
    "def asMinutes(s):\n",
    "    m = math.floor(s / 60)\n",
    "    s -= m * 60\n",
    "    return '%dm %ds' % (m, s)\n",
    "\n",
    "\n",
    "def timeSince(since, percent):\n",
    "    now = time.time()\n",
    "    s = now - since\n",
    "    es = s / (percent)\n",
    "    rs = es - s\n",
    "    return '%s (- %2s)' % (asMinutes(s), asMinutes(rs))"
   ]
  },
  {
   "cell_type": "markdown",
   "metadata": {},
   "source": [
    "#### Show loss"
   ]
  },
  {
   "cell_type": "code",
   "execution_count": 4,
   "metadata": {
    "ExecuteTime": {
     "end_time": "2020-04-26T13:28:34.761286Z",
     "start_time": "2020-04-26T13:28:34.757218Z"
    }
   },
   "outputs": [],
   "source": [
    "def show_result(score, loss):  \n",
    "    plt.figure(figsize=(10, 6))\n",
    "    \n",
    "    plt.ylabel(\"Score\")\n",
    "    plt.xlabel(\"Epochs\")\n",
    "    plt.title(\"BLEU Score Curve\", fontsize=18)\n",
    "    plt.plot(score)\n",
    "\n",
    "    plt.show()\n",
    "    \n",
    "    plt.figure(figsize=(10, 6))\n",
    "    \n",
    "    plt.ylabel(\"Loss\")\n",
    "    plt.xlabel(\"Epochs\")\n",
    "    plt.title(\"Loss Curve\", fontsize=18)\n",
    "    plt.plot(loss)\n",
    "\n",
    "    plt.show()"
   ]
  },
  {
   "cell_type": "markdown",
   "metadata": {},
   "source": [
    "#### BLEU"
   ]
  },
  {
   "cell_type": "code",
   "execution_count": 5,
   "metadata": {
    "ExecuteTime": {
     "end_time": "2020-04-26T13:28:34.765474Z",
     "start_time": "2020-04-26T13:28:34.762166Z"
    }
   },
   "outputs": [],
   "source": [
    "#compute BLEU-4 score\n",
    "def compute_bleu(output, reference):\n",
    "    cc = SmoothingFunction()\n",
    "    if len(reference) == 3:\n",
    "        weights = (0.33,0.33,0.33)\n",
    "    else:\n",
    "        weights = (0.25,0.25,0.25,0.25)\n",
    "    return sentence_bleu([reference], output,weights=weights,smoothing_function=cc.method1)"
   ]
  },
  {
   "cell_type": "markdown",
   "metadata": {},
   "source": [
    "#### Get data"
   ]
  },
  {
   "cell_type": "code",
   "execution_count": 6,
   "metadata": {
    "ExecuteTime": {
     "end_time": "2020-04-28T10:54:09.862245Z",
     "start_time": "2020-04-28T10:54:09.855228Z"
    }
   },
   "outputs": [],
   "source": [
    "def getData(mode):\n",
    "    assert mode == 'train' or mode == 'test' or mode == 'new_test'\n",
    "    dataset = json.load(open('./data/'+mode+'.json', 'r'))\n",
    "    inputs = []\n",
    "    labels = []\n",
    "    for data in dataset:\n",
    "        inputs.append(data['input'])\n",
    "        labels.append(data['target'])\n",
    "    return inputs, labels"
   ]
  },
  {
   "cell_type": "markdown",
   "metadata": {},
   "source": [
    "### Build vocabulary"
   ]
  },
  {
   "cell_type": "code",
   "execution_count": 7,
   "metadata": {
    "ExecuteTime": {
     "end_time": "2020-04-26T13:28:34.777586Z",
     "start_time": "2020-04-26T13:28:34.771625Z"
    }
   },
   "outputs": [],
   "source": [
    "class Vocabulary():\n",
    "    def __init__(self):\n",
    "        self.word2index = {'SOS': 0, 'EOS': 1, 'PAD': 2, 'UNK': 3}\n",
    "        self.index2word = {0: 'SOS', 1: 'EOS', 2: 'PAD', 3: 'UNK'}\n",
    "        self.n_words = 4\n",
    "        self.max_length = 0\n",
    "        self.build_vocab(getData('train')[0])\n",
    "        \n",
    "\n",
    "    # input the training data and build vocabulary\n",
    "    def build_vocab(self, corpus):\n",
    "        for words in corpus:\n",
    "            for word in words:\n",
    "                if len(word) > self.max_length:\n",
    "                    self.max_length = len(word)\n",
    "                    \n",
    "                for char in word:\n",
    "                    if char not in self.word2index:\n",
    "                        self.word2index[char] = self.n_words\n",
    "                        self.index2word[self.n_words] = char\n",
    "                        self.n_words += 1                      \n",
    "                    \n",
    "    # convert word in indices\n",
    "    def word2indices(self, word, add_eos=False, add_sos=False):\n",
    "        indices = [self.word2index[char] if char in self.word2index else 3 for char in word]\n",
    "\n",
    "        if add_sos:\n",
    "            indices.insert(0, 0)\n",
    "        if add_eos:\n",
    "            indices.append(1)\n",
    "            \n",
    "        # padding input of same target into same length\n",
    "        indices.extend([2]*(self.max_length-len(word)))\n",
    "            \n",
    "        return np.array(indices)\n",
    "    \n",
    "    # convert indices to word\n",
    "    def indices2word(self, indices):\n",
    "        word = [self.index2word[idx] for idx in indices if idx > 2 ]\n",
    "        return ''.join(word)"
   ]
  },
  {
   "cell_type": "code",
   "execution_count": 8,
   "metadata": {
    "ExecuteTime": {
     "end_time": "2020-04-26T13:28:34.795203Z",
     "start_time": "2020-04-26T13:28:34.779015Z"
    }
   },
   "outputs": [
    {
     "name": "stdout",
     "output_type": "stream",
     "text": [
      "[20  6 12 12 17  2  2  2  2  2  2  2  2  2  2  2  2  2  2]\n",
      "hello\n"
     ]
    }
   ],
   "source": [
    "v = Vocabulary()\n",
    "t = \"hello\"\n",
    "idx = v.word2indices(t)\n",
    "print(idx)\n",
    "t = v.indices2word(idx)\n",
    "print(t)"
   ]
  },
  {
   "cell_type": "markdown",
   "metadata": {},
   "source": [
    "### Data Loader"
   ]
  },
  {
   "cell_type": "code",
   "execution_count": 9,
   "metadata": {
    "ExecuteTime": {
     "end_time": "2020-04-26T13:28:34.801182Z",
     "start_time": "2020-04-26T13:28:34.796251Z"
    }
   },
   "outputs": [],
   "source": [
    "class SpellingLoader(data.Dataset):\n",
    "    def __init__(self, mode, vocab):\n",
    "        self.mode = mode   \n",
    "        self.inputs, self.targets = self.convert_pair()\n",
    "        self.vocab = vocab\n",
    "        \n",
    "    def __len__(self):\n",
    "        return len(self.inputs)\n",
    "\n",
    "    def __getitem__(self, index):\n",
    "        input = torch.tensor(self.vocab.word2indices(self.inputs[index]))\n",
    "        target = torch.tensor(self.vocab.word2indices(self.targets[index]))\n",
    "        return input, target\n",
    "    \n",
    "    # convert (multi-input)+target into multi-(input+target) pair\n",
    "    def convert_pair(self):\n",
    "        input_data, label_data = getData(self.mode)\n",
    "        inputs_list = []\n",
    "        labels_list = []\n",
    "        for inputs, label in zip(input_data, label_data):\n",
    "            for input in inputs:\n",
    "                inputs_list.append(input)\n",
    "                labels_list.append(label)\n",
    "        return inputs_list, labels_list                "
   ]
  },
  {
   "cell_type": "code",
   "execution_count": 10,
   "metadata": {
    "ExecuteTime": {
     "end_time": "2020-04-26T13:28:34.825927Z",
     "start_time": "2020-04-26T13:28:34.802349Z"
    }
   },
   "outputs": [],
   "source": [
    "vocab = Vocabulary()\n",
    "trainset = SpellingLoader('train', vocab)\n",
    "testset = SpellingLoader('test', vocab)"
   ]
  },
  {
   "cell_type": "code",
   "execution_count": 11,
   "metadata": {
    "ExecuteTime": {
     "end_time": "2020-04-26T13:28:34.831102Z",
     "start_time": "2020-04-26T13:28:34.826934Z"
    }
   },
   "outputs": [
    {
     "data": {
      "text/plain": [
       "(tensor([ 6, 14, 15, 21, 17, 17, 19,  2,  2,  2,  2,  2,  2,  2,  2,  2,  2,  2,\n",
       "          2]),\n",
       " tensor([ 6,  4, 14, 15, 21, 17, 17, 19,  2,  2,  2,  2,  2,  2,  2,  2,  2,  2,\n",
       "          2]))"
      ]
     },
     "execution_count": 11,
     "metadata": {},
     "output_type": "execute_result"
    }
   ],
   "source": [
    "trainset[16]"
   ]
  },
  {
   "cell_type": "markdown",
   "metadata": {},
   "source": [
    "### Encoder\n",
    "Input (1, batch_size)"
   ]
  },
  {
   "cell_type": "code",
   "execution_count": 12,
   "metadata": {
    "ExecuteTime": {
     "end_time": "2020-04-26T13:28:34.836358Z",
     "start_time": "2020-04-26T13:28:34.832191Z"
    }
   },
   "outputs": [],
   "source": [
    "class EncoderRNN(nn.Module):\n",
    "    def __init__(self, input_size, hidden_size):\n",
    "        super(EncoderRNN, self).__init__()\n",
    "        self.hidden_size = hidden_size\n",
    "\n",
    "        self.embedding = nn.Embedding(input_size, hidden_size)\n",
    "        self.lstm = nn.LSTM(hidden_size, hidden_size)\n",
    "\n",
    "    def forward(self, input, hidden):\n",
    "        embedded = self.embedding(input).view(1, -1, self.hidden_size)\n",
    "        output = embedded\n",
    "        output, hidden = self.lstm(output, hidden)\n",
    "        return output, hidden\n",
    "\n",
    "    def initHidden(self, batch_size=32):\n",
    "        return (torch.zeros(1, batch_size, self.hidden_size, device=device),\n",
    "                torch.zeros(1, batch_size, self.hidden_size, device=device))"
   ]
  },
  {
   "cell_type": "markdown",
   "metadata": {},
   "source": [
    "### Decoder\n",
    "Input (1, batch_size)"
   ]
  },
  {
   "cell_type": "code",
   "execution_count": 13,
   "metadata": {
    "ExecuteTime": {
     "end_time": "2020-04-26T13:28:34.842513Z",
     "start_time": "2020-04-26T13:28:34.837555Z"
    }
   },
   "outputs": [],
   "source": [
    "class DecoderRNN(nn.Module):\n",
    "    def __init__(self, hidden_size, output_size):\n",
    "        super(DecoderRNN, self).__init__()\n",
    "        self.hidden_size = hidden_size\n",
    "\n",
    "        self.embedding = nn.Embedding(output_size, hidden_size)\n",
    "        self.lstm = nn.LSTM(hidden_size, hidden_size)\n",
    "        self.out = nn.Linear(hidden_size, output_size)\n",
    "        self.softmax = nn.LogSoftmax(dim=1)\n",
    "\n",
    "    def forward(self, input, hidden):\n",
    "        output = self.embedding(input).view(1, -1, self.hidden_size)\n",
    "        output = F.relu(output)\n",
    "        output, hidden = self.lstm(output, hidden)\n",
    "        output = self.out(output[0])\n",
    "        return output, hidden\n",
    "\n",
    "    def initHidden(self, batch_size=32):\n",
    "        return (torch.zeros(1, batch_size, self.hidden_size, device=device),\n",
    "                torch.zeros(1, batch_size, self.hidden_size, device=device))"
   ]
  },
  {
   "cell_type": "markdown",
   "metadata": {},
   "source": [
    "#### Train"
   ]
  },
  {
   "cell_type": "code",
   "execution_count": 14,
   "metadata": {
    "ExecuteTime": {
     "end_time": "2020-04-26T13:28:34.850016Z",
     "start_time": "2020-04-26T13:28:34.843532Z"
    }
   },
   "outputs": [],
   "source": [
    "def train(input_tensor, target_tensor, encoder, decoder, encoder_optimizer, decoder_optimizer, \n",
    "          criterion, teacher_forcing_ratio, max_length=MAX_LENGTH):\n",
    "    batch_size = input_tensor.size(0)\n",
    "    encoder_hidden = encoder.initHidden(batch_size)\n",
    "\n",
    "    # transpose tensor from (batch_size, seq_len) to (seq_len, batch_size)\n",
    "    input_tensor = input_tensor.transpose(0, 1)\n",
    "    target_tensor = target_tensor.transpose(0, 1)\n",
    "\n",
    "    encoder_optimizer.zero_grad()\n",
    "    decoder_optimizer.zero_grad()\n",
    "\n",
    "    # calculate number of time step\n",
    "    input_length = input_tensor.size(0)\n",
    "    target_length = target_tensor.size(0)\n",
    "    \n",
    "    loss = 0\n",
    "\n",
    "    #----------sequence to sequence part for encoder----------#\n",
    "    for ei in range(input_length):\n",
    "        encoder_output, encoder_hidden = encoder(\n",
    "            input_tensor[ei], encoder_hidden)\n",
    "\n",
    "    decoder_input = torch.tensor([[SOS_token] for i in range(batch_size)], device=device)\n",
    "\n",
    "    decoder_hidden = encoder_hidden\n",
    "\n",
    "    use_teacher_forcing = True if random.random() < teacher_forcing_ratio else False\n",
    "\t\n",
    "\n",
    "    #----------sequence to sequence part for decoder----------#\n",
    "    if use_teacher_forcing:\n",
    "        # Teacher forcing: Feed the target as the next input\n",
    "        for di in range(target_length):\n",
    "            decoder_output, decoder_hidden = decoder(\n",
    "                decoder_input, decoder_hidden) \n",
    "            loss += criterion(decoder_output, target_tensor[di])\n",
    "            decoder_input = target_tensor[di]  # Teacher forcing\n",
    "\n",
    "    else:\n",
    "        # Without teacher forcing: use its own predictions as the next input\n",
    "        for di in range(target_length):\n",
    "            decoder_output, decoder_hidden = decoder(\n",
    "                decoder_input, decoder_hidden) \n",
    "            topv, topi = decoder_output.topk(1)\n",
    "            decoder_input = topi.squeeze().detach()  # detach from history as input\n",
    "\n",
    "            loss += criterion(decoder_output, target_tensor[di])\n",
    "\n",
    "    loss.backward()\n",
    "\n",
    "    encoder_optimizer.step()\n",
    "    decoder_optimizer.step()\n",
    "\n",
    "    return loss.item() / target_length"
   ]
  },
  {
   "cell_type": "markdown",
   "metadata": {},
   "source": [
    "#### Train iteration"
   ]
  },
  {
   "cell_type": "code",
   "execution_count": 15,
   "metadata": {
    "ExecuteTime": {
     "end_time": "2020-04-26T15:13:12.264618Z",
     "start_time": "2020-04-26T15:13:12.258081Z"
    }
   },
   "outputs": [],
   "source": [
    "def trainIters(encoder, decoder, vocab, n_iters, print_every=1000, plot_every=100, \n",
    "               batch_size=32, learning_rate=0.1, teacher_forcing_ratio=1.0):\n",
    "    start = time.time()\n",
    "    plot_losses = []\n",
    "    plot_scores = []\n",
    "    print_loss_total = 0  # Reset every print_every\n",
    "    plot_loss_total = 0  # Reset every plot_every\n",
    "\n",
    "    encoder_optimizer = optim.SGD(encoder.parameters(), lr=learning_rate)\n",
    "    decoder_optimizer = optim.SGD(decoder.parameters(), lr=learning_rate)\n",
    "\n",
    "    # create dataloader\n",
    "    trainset = SpellingLoader('train', vocab)\n",
    "    trainloader = data.DataLoader(trainset, batch_size, shuffle = True)\n",
    "\n",
    "    criterion = nn.CrossEntropyLoss()\n",
    "    \n",
    "    max_score = 0.8785\n",
    "\n",
    "    for iter in range(1, n_iters + 1):\n",
    "        for input_tensor, target_tensor in trainloader:\n",
    "            input_tensor = input_tensor.to(device)\n",
    "            target_tensor = target_tensor.to(device)\n",
    "\n",
    "            loss = train(input_tensor, target_tensor, encoder,\n",
    "                         decoder, encoder_optimizer, decoder_optimizer, criterion, teacher_forcing_ratio)\n",
    "            print_loss_total += loss\n",
    "            plot_loss_total += loss\n",
    "            \n",
    "        # evaluate and save model\n",
    "        _, avg_bleu = evaluate(encoder, decoder, vocab)\n",
    "        plot_scores.append(avg_bleu)\n",
    "        if avg_bleu > max_score:\n",
    "            max_score = avg_bleu\n",
    "            print (\"Model save...\")\n",
    "            torch.save(encoder, \"./models/encoder_{:.4f}.ckpt\".format(avg_bleu))\n",
    "            torch.save(decoder, \"./models/decoder_{:.4f}.ckpt\".format(avg_bleu))\n",
    "\n",
    "        if iter % print_every == 0:\n",
    "            print_loss_avg = print_loss_total / print_every\n",
    "            print_loss_total = 0\n",
    "            print('%s (%d %d%%) Loss: %.4f BLEU: %.4f' % (timeSince(start, iter / n_iters),\n",
    "                                         iter, iter / n_iters * 100, print_loss_avg, avg_bleu))\n",
    " \n",
    "        plot_losses.append(plot_loss_total)\n",
    "        plot_loss_total = 0\n",
    "            \n",
    "    print (\"The highest score is %s\"%max_score)\n",
    "            \n",
    "    return plot_scores, plot_losses"
   ]
  },
  {
   "cell_type": "markdown",
   "metadata": {},
   "source": [
    "#### Evaluate"
   ]
  },
  {
   "cell_type": "code",
   "execution_count": 16,
   "metadata": {
    "ExecuteTime": {
     "end_time": "2020-04-26T13:28:34.862392Z",
     "start_time": "2020-04-26T13:28:34.859377Z"
    }
   },
   "outputs": [],
   "source": [
    "# print the prediction and return the bleu score\n",
    "def show_prediction(inputs, prediction, targets, plot_pred):\n",
    "\n",
    "    bleu_total = 0\n",
    "    for idx in range(len(inputs)):\n",
    "        bleu_total += compute_bleu(prediction[idx], targets[idx])\n",
    "\n",
    "        if plot_pred:\n",
    "            output = \"\\ninput:  {}\\ntarget: {}\\npred:   {}\".format(inputs[idx], targets[idx], prediction[idx])\n",
    "            print (\"=\"*30+output)\n",
    "\n",
    "    return bleu_total/len(inputs)"
   ]
  },
  {
   "cell_type": "code",
   "execution_count": 17,
   "metadata": {
    "ExecuteTime": {
     "end_time": "2020-04-28T10:55:39.771402Z",
     "start_time": "2020-04-28T10:55:39.754201Z"
    }
   },
   "outputs": [],
   "source": [
    "def evaluate(encoder, decoder, vocab, batch_size=32, plot_pred=False):\n",
    "    # create dataloader\n",
    "#     testset = SpellingLoader('test', vocab)\n",
    "    testset = SpellingLoader('new_test', vocab)\n",
    "    testloader = data.DataLoader(testset, batch_size=32)\n",
    "        \n",
    "    prediction = []\n",
    "    targets = []\n",
    "    inputs = []\n",
    "\n",
    "    with torch.no_grad():    \n",
    "        for input_tensor, target_tensor in testloader:\n",
    "            batch_size = input_tensor.size(0)\n",
    "            encoder_hidden = encoder.initHidden(batch_size)\n",
    "            \n",
    "            # convert input&target into string\n",
    "            for idx in range(batch_size):\n",
    "                targets.append(vocab.indices2word(target_tensor[idx].data.numpy()))\n",
    "                inputs.append(vocab.indices2word(input_tensor[idx].data.numpy()))\n",
    "\n",
    "            input_tensor = input_tensor.to(device)\n",
    "            target_tensor = target_tensor.to(device)\n",
    "            \n",
    "            # transpose tensor from (batch_size, seq_len) to (seq_len, batch_size)\n",
    "            input_tensor = input_tensor.transpose(0, 1)\n",
    "            target_tensor = target_tensor.transpose(0, 1)\n",
    "\n",
    "            # calculate number of time step\n",
    "            input_length = input_tensor.size(0)\n",
    "            target_length = target_tensor.size(0)\n",
    "            \n",
    "            #----------sequence to sequence part for encoder----------#\n",
    "            for ei in range(input_length):\n",
    "                encoder_output, encoder_hidden = encoder(\n",
    "                    input_tensor[ei], encoder_hidden)\n",
    "        \n",
    "            decoder_input = torch.tensor([SOS_token for i in range(batch_size)], device=device)\n",
    "            output = torch.zeros(target_length, batch_size)\n",
    "            \n",
    "            decoder_hidden = encoder_hidden\n",
    "            \n",
    "            #----------sequence to sequence part for decoder----------#\n",
    "            for di in range(target_length):\n",
    "                decoder_output, decoder_hidden = decoder(\n",
    "                    decoder_input, decoder_hidden)\n",
    "                topv, topi = decoder_output.topk(1)\n",
    "                decoder_input = topi.squeeze().detach()  # detach from history as input\n",
    "                output[di] = decoder_input\n",
    "\n",
    "            # get predict indices\n",
    "            output = output.transpose(0, 1)    \n",
    "                \n",
    "            # convert indices into string\n",
    "            for idx in range(batch_size):\n",
    "                prediction.append(vocab.indices2word(output[idx].data.numpy()))\n",
    "                \n",
    "        # calculate average BLEU score\n",
    "        avg_bleu = show_prediction(inputs, prediction, targets, plot_pred)\n",
    "                \n",
    "        return prediction, avg_bleu"
   ]
  },
  {
   "cell_type": "markdown",
   "metadata": {},
   "source": [
    "#### main"
   ]
  },
  {
   "cell_type": "code",
   "execution_count": 18,
   "metadata": {
    "ExecuteTime": {
     "end_time": "2020-04-26T15:34:06.791587Z",
     "start_time": "2020-04-26T15:27:11.143026Z"
    },
    "scrolled": true
   },
   "outputs": [
    {
     "name": "stdout",
     "output_type": "stream",
     "text": [
      "3m 11s (- 28m 39s) (10 10%) Loss: 267.2249 BLEU: 0.3191\n",
      "5m 58s (- 23m 53s) (20 20%) Loss: 111.4863 BLEU: 0.5060\n",
      "8m 44s (- 20m 22s) (30 30%) Loss: 63.1892 BLEU: 0.5456\n",
      "11m 27s (- 17m 10s) (40 40%) Loss: 34.1803 BLEU: 0.6234\n",
      "14m 19s (- 14m 19s) (50 50%) Loss: 17.4531 BLEU: 0.6919\n",
      "17m 2s (- 11m 21s) (60 60%) Loss: 9.9570 BLEU: 0.6422\n",
      "19m 47s (- 8m 28s) (70 70%) Loss: 7.2413 BLEU: 0.6642\n",
      "22m 40s (- 5m 40s) (80 80%) Loss: 6.1337 BLEU: 0.6101\n",
      "25m 37s (- 2m 50s) (90 90%) Loss: 5.5146 BLEU: 0.6767\n",
      "28m 28s (- 0m 0s) (100 100%) Loss: 5.1062 BLEU: 0.6799\n",
      "The highest score is 0.8785\n"
     ]
    },
    {
     "data": {
      "image/png": "[encoded data removed]",
      "text/plain": [
       "<Figure size 720x432 with 1 Axes>"
      ]
     },
     "metadata": {
      "needs_background": "light"
     },
     "output_type": "display_data"
    },
    {
     "data": {
      "image/png": "[encoded data removed]",
      "text/plain": [
       "<Figure size 720x432 with 1 Axes>"
      ]
     },
     "metadata": {
      "needs_background": "light"
     },
     "output_type": "display_data"
    }
   ],
   "source": [
    "encoder1 = EncoderRNN(vocab_size, hidden_size).to(device)\n",
    "decoder1 = DecoderRNN(hidden_size, vocab_size).to(device)\n",
    "vocab = Vocabulary()\n",
    "scores, losses = trainIters(encoder1, decoder1, vocab, 100, print_every=10, plot_every=1, teacher_forcing_ratio=1.0)\n",
    "show_result(scores, losses)"
   ]
  },
  {
   "cell_type": "code",
   "execution_count": 19,
   "metadata": {
    "ExecuteTime": {
     "end_time": "2020-04-26T14:58:51.896269Z",
     "start_time": "2020-04-26T14:58:51.827447Z"
    },
    "scrolled": false
   },
   "outputs": [
    {
     "name": "stdout",
     "output_type": "stream",
     "text": [
      "==============================\n",
      "input:  apreciate\n",
      "target: appreciate\n",
      "pred:   appreciate\n",
      "==============================\n",
      "input:  appeciate\n",
      "target: appreciate\n",
      "pred:   appreciate\n",
      "==============================\n",
      "input:  apprciate\n",
      "target: appreciate\n",
      "pred:   appropriate\n",
      "==============================\n",
      "input:  apprecate\n",
      "target: appreciate\n",
      "pred:   appropriate\n",
      "==============================\n",
      "input:  apprecite\n",
      "target: appreciate\n",
      "pred:   appreciate\n",
      "==============================\n",
      "input:  luve\n",
      "target: love\n",
      "pred:   loave\n",
      "==============================\n",
      "input:  culd\n",
      "target: cold\n",
      "pred:   cold\n",
      "==============================\n",
      "input:  heart\n",
      "target: heart\n",
      "pred:   hearter\n",
      "==============================\n",
      "input:  televiseon\n",
      "target: television\n",
      "pred:   television\n",
      "==============================\n",
      "input:  thone\n",
      "target: phone\n",
      "pred:   phone\n",
      "==============================\n",
      "input:  phace\n",
      "target: phase\n",
      "pred:   phase\n",
      "==============================\n",
      "input:  poam\n",
      "target: poem\n",
      "pred:   poem\n",
      "==============================\n",
      "input:  tomorraw\n",
      "target: tomorrow\n",
      "pred:   torminor\n",
      "==============================\n",
      "input:  presishan\n",
      "target: precision\n",
      "pred:   precision\n",
      "==============================\n",
      "input:  presishion\n",
      "target: precision\n",
      "pred:   precipision\n",
      "==============================\n",
      "input:  presisian\n",
      "target: precision\n",
      "pred:   presceinis\n",
      "==============================\n",
      "input:  presistion\n",
      "target: precision\n",
      "pred:   precision\n",
      "==============================\n",
      "input:  perver\n",
      "target: prefer\n",
      "pred:   preferved\n",
      "==============================\n",
      "input:  predgudice\n",
      "target: prejudice\n",
      "pred:   prediction\n",
      "==============================\n",
      "input:  predgudis\n",
      "target: prejudice\n",
      "pred:   prediction\n",
      "==============================\n",
      "input:  recievor\n",
      "target: receiver\n",
      "pred:   receiver\n",
      "==============================\n",
      "input:  reciover\n",
      "target: receiver\n",
      "pred:   receivor\n",
      "==============================\n",
      "input:  relieve\n",
      "target: relief\n",
      "pred:   relieve\n",
      "==============================\n",
      "input:  togather\n",
      "target: together\n",
      "pred:   otherage\n",
      "==============================\n",
      "input:  remuttance\n",
      "target: remittance\n",
      "pred:   remotace\n",
      "==============================\n",
      "input:  deposite\n",
      "target: deposit\n",
      "pred:   deposit\n",
      "==============================\n",
      "input:  deposittt\n",
      "target: deposit\n",
      "pred:   dispostable\n",
      "==============================\n",
      "input:  peper\n",
      "target: pepper\n",
      "pred:   pepper\n",
      "==============================\n",
      "input:  pepperrr\n",
      "target: pepper\n",
      "pred:   perperved\n",
      "==============================\n",
      "input:  employe\n",
      "target: employee\n",
      "pred:   employ\n",
      "==============================\n",
      "input:  employezz\n",
      "target: employee\n",
      "pred:   employze\n",
      "==============================\n",
      "input:  beest\n",
      "target: best\n",
      "pred:   beast\n",
      "==============================\n",
      "input:  bestt\n",
      "target: best\n",
      "pred:   best\n",
      "==============================\n",
      "input:  aset\n",
      "target: best\n",
      "pred:   aste\n",
      "==============================\n",
      "input:  feeture\n",
      "target: feature\n",
      "pred:   feature\n",
      "==============================\n",
      "input:  faeture\n",
      "target: feature\n",
      "pred:   facture\n",
      "==============================\n",
      "input:  featture\n",
      "target: feature\n",
      "pred:   featorually\n",
      "==============================\n",
      "input:  gorges\n",
      "target: gorgeous\n",
      "pred:   gorgeous\n",
      "==============================\n",
      "input:  gorgeus\n",
      "target: gorgeous\n",
      "pred:   gorgeous\n",
      "==============================\n",
      "input:  gourgace\n",
      "target: gorgeous\n",
      "pred:   guarage\n",
      "==============================\n",
      "input:  gripe\n",
      "target: grip\n",
      "pred:   grip\n",
      "==============================\n",
      "input:  hienous\n",
      "target: heinous\n",
      "pred:   heinous\n",
      "==============================\n",
      "input:  hurple\n",
      "target: purple\n",
      "pred:   purple\n",
      "==============================\n",
      "input:  occassional\n",
      "target: occasional\n",
      "pred:   occasional\n",
      "==============================\n",
      "input:  tirumph\n",
      "target: triumph\n",
      "pred:   triumph\n",
      "==============================\n",
      "input:  triam\n",
      "target: triumph\n",
      "pred:   triumph\n",
      "==============================\n",
      "input:  unforgatealbe\n",
      "target: unforgettable\n",
      "pred:   unforthemental\n",
      "==============================\n",
      "input:  unforgattable\n",
      "target: unforgettable\n",
      "pred:   unforthemental\n",
      "==============================\n",
      "input:  vesiable\n",
      "target: visible\n",
      "pred:   visible\n",
      "==============================\n",
      "input:  visable\n",
      "target: visible\n",
      "pred:   visible\n",
      "BLEU-4 score: 0.6799\n"
     ]
    }
   ],
   "source": [
    "#encoder = torch.load(\"./models/encoder_0.8785.ckpt\")\n",
    "#decoder = torch.load(\"./models/decoder_0.8785.ckpt\")\n",
    "predictions, avg_bleu = evaluate(encoder1, decoder1, vocab, plot_pred=True)\n",
    "print (\"BLEU-4 score: %.4f\"%avg_bleu)"
   ]
  }
 ],
 "metadata": {
  "kernelspec": {
   "display_name": "Python 3",
   "language": "python",
   "name": "python3"
  },
  "language_info": {
   "codemirror_mode": {
    "name": "ipython",
    "version": 3
   },
   "file_extension": ".py",
   "mimetype": "text/x-python",
   "name": "python",
   "nbconvert_exporter": "python",
   "pygments_lexer": "ipython3",
   "version": "3.8.3"
  }
 },
 "nbformat": 4,
 "nbformat_minor": 2
}

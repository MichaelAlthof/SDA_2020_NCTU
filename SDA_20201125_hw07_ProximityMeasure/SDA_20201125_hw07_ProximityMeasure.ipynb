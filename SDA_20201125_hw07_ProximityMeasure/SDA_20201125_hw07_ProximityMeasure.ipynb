{
  "nbformat": 4,
  "nbformat_minor": 0,
  "metadata": {
    "colab": {
      "name": "hw07b.ipynb",
      "provenance": [],
      "collapsed_sections": []
    },
    "kernelspec": {
      "name": "python3",
      "display_name": "Python 3"
    }
  },
  "cells": [
    {
      "cell_type": "code",
      "metadata": {
        "id": "924e4WAaXZXt"
      },
      "source": [
        "import pandas as pd\n",
        "import numpy as np\n",
        "from sklearn.neighbors import DistanceMetric\n",
        "from scipy.spatial import distance"
      ],
      "execution_count": 19,
      "outputs": []
    },
    {
      "cell_type": "code",
      "metadata": {
        "colab": {
          "base_uri": "https://localhost:8080/",
          "height": 136
        },
        "id": "3gQOWIiUYW6Q",
        "outputId": "a80a6745-5c37-4a1e-b630-e0cbf9cd1c88"
      },
      "source": [
        "### load dat file \n",
        "### retrieve Renault, Rover, Toyota\n",
        "df = pd.read_csv('carmean2.dat', sep =\"\\s+\", header=None)\n",
        "\n",
        "df_car = df.iloc[16:19,:]\n",
        "df_car"
      ],
      "execution_count": 20,
      "outputs": [
        {
          "output_type": "execute_result",
          "data": {
            "text/html": [
              "<div>\n",
              "<style scoped>\n",
              "    .dataframe tbody tr th:only-of-type {\n",
              "        vertical-align: middle;\n",
              "    }\n",
              "\n",
              "    .dataframe tbody tr th {\n",
              "        vertical-align: top;\n",
              "    }\n",
              "\n",
              "    .dataframe thead th {\n",
              "        text-align: right;\n",
              "    }\n",
              "</style>\n",
              "<table border=\"1\" class=\"dataframe\">\n",
              "  <thead>\n",
              "    <tr style=\"text-align: right;\">\n",
              "      <th></th>\n",
              "      <th>0</th>\n",
              "      <th>1</th>\n",
              "      <th>2</th>\n",
              "      <th>3</th>\n",
              "      <th>4</th>\n",
              "      <th>5</th>\n",
              "      <th>6</th>\n",
              "      <th>7</th>\n",
              "      <th>8</th>\n",
              "    </tr>\n",
              "  </thead>\n",
              "  <tbody>\n",
              "    <tr>\n",
              "      <th>16</th>\n",
              "      <td>Re19</td>\n",
              "      <td>2.7</td>\n",
              "      <td>3.3</td>\n",
              "      <td>3.4</td>\n",
              "      <td>3.0</td>\n",
              "      <td>3.1</td>\n",
              "      <td>3.4</td>\n",
              "      <td>3.0</td>\n",
              "      <td>2.7</td>\n",
              "    </tr>\n",
              "    <tr>\n",
              "      <th>17</th>\n",
              "      <td>Rove</td>\n",
              "      <td>3.9</td>\n",
              "      <td>2.8</td>\n",
              "      <td>2.6</td>\n",
              "      <td>4.0</td>\n",
              "      <td>2.6</td>\n",
              "      <td>3.0</td>\n",
              "      <td>3.2</td>\n",
              "      <td>3.0</td>\n",
              "    </tr>\n",
              "    <tr>\n",
              "      <th>18</th>\n",
              "      <td>ToCo</td>\n",
              "      <td>2.5</td>\n",
              "      <td>2.9</td>\n",
              "      <td>3.4</td>\n",
              "      <td>3.0</td>\n",
              "      <td>3.2</td>\n",
              "      <td>3.1</td>\n",
              "      <td>3.2</td>\n",
              "      <td>2.8</td>\n",
              "    </tr>\n",
              "  </tbody>\n",
              "</table>\n",
              "</div>"
            ],
            "text/plain": [
              "       0    1    2    3    4    5    6    7    8\n",
              "16  Re19  2.7  3.3  3.4  3.0  3.1  3.4  3.0  2.7\n",
              "17  Rove  3.9  2.8  2.6  4.0  2.6  3.0  3.2  3.0\n",
              "18  ToCo  2.5  2.9  3.4  3.0  3.2  3.1  3.2  2.8"
            ]
          },
          "metadata": {
            "tags": []
          },
          "execution_count": 20
        }
      ]
    },
    {
      "cell_type": "code",
      "metadata": {
        "colab": {
          "base_uri": "https://localhost:8080/",
          "height": 136
        },
        "id": "gWWUWr0RYgV7",
        "outputId": "371c1179-b106-4566-d28d-324bcc0dda75"
      },
      "source": [
        "df_car = df_car.loc[:,1:8]\n",
        "df_car"
      ],
      "execution_count": 21,
      "outputs": [
        {
          "output_type": "execute_result",
          "data": {
            "text/html": [
              "<div>\n",
              "<style scoped>\n",
              "    .dataframe tbody tr th:only-of-type {\n",
              "        vertical-align: middle;\n",
              "    }\n",
              "\n",
              "    .dataframe tbody tr th {\n",
              "        vertical-align: top;\n",
              "    }\n",
              "\n",
              "    .dataframe thead th {\n",
              "        text-align: right;\n",
              "    }\n",
              "</style>\n",
              "<table border=\"1\" class=\"dataframe\">\n",
              "  <thead>\n",
              "    <tr style=\"text-align: right;\">\n",
              "      <th></th>\n",
              "      <th>1</th>\n",
              "      <th>2</th>\n",
              "      <th>3</th>\n",
              "      <th>4</th>\n",
              "      <th>5</th>\n",
              "      <th>6</th>\n",
              "      <th>7</th>\n",
              "      <th>8</th>\n",
              "    </tr>\n",
              "  </thead>\n",
              "  <tbody>\n",
              "    <tr>\n",
              "      <th>16</th>\n",
              "      <td>2.7</td>\n",
              "      <td>3.3</td>\n",
              "      <td>3.4</td>\n",
              "      <td>3.0</td>\n",
              "      <td>3.1</td>\n",
              "      <td>3.4</td>\n",
              "      <td>3.0</td>\n",
              "      <td>2.7</td>\n",
              "    </tr>\n",
              "    <tr>\n",
              "      <th>17</th>\n",
              "      <td>3.9</td>\n",
              "      <td>2.8</td>\n",
              "      <td>2.6</td>\n",
              "      <td>4.0</td>\n",
              "      <td>2.6</td>\n",
              "      <td>3.0</td>\n",
              "      <td>3.2</td>\n",
              "      <td>3.0</td>\n",
              "    </tr>\n",
              "    <tr>\n",
              "      <th>18</th>\n",
              "      <td>2.5</td>\n",
              "      <td>2.9</td>\n",
              "      <td>3.4</td>\n",
              "      <td>3.0</td>\n",
              "      <td>3.2</td>\n",
              "      <td>3.1</td>\n",
              "      <td>3.2</td>\n",
              "      <td>2.8</td>\n",
              "    </tr>\n",
              "  </tbody>\n",
              "</table>\n",
              "</div>"
            ],
            "text/plain": [
              "      1    2    3    4    5    6    7    8\n",
              "16  2.7  3.3  3.4  3.0  3.1  3.4  3.0  2.7\n",
              "17  3.9  2.8  2.6  4.0  2.6  3.0  3.2  3.0\n",
              "18  2.5  2.9  3.4  3.0  3.2  3.1  3.2  2.8"
            ]
          },
          "metadata": {
            "tags": []
          },
          "execution_count": 21
        }
      ]
    },
    {
      "cell_type": "code",
      "metadata": {
        "colab": {
          "base_uri": "https://localhost:8080/"
        },
        "id": "FNrxdoMLYjZQ",
        "outputId": "6fa10140-9c63-419e-bc2d-87d06b95c4fb"
      },
      "source": [
        "### transfer DataFrame to Numpy array\n",
        "car_list = np.array(df_car).astype(float)\n",
        "\n",
        "print(\"Data matrix: \\n\", car_list)"
      ],
      "execution_count": 22,
      "outputs": [
        {
          "output_type": "stream",
          "text": [
            "Data matrix: \n",
            " [[2.7 3.3 3.4 3.  3.1 3.4 3.  2.7]\n",
            " [3.9 2.8 2.6 4.  2.6 3.  3.2 3. ]\n",
            " [2.5 2.9 3.4 3.  3.2 3.1 3.2 2.8]]\n"
          ],
          "name": "stdout"
        }
      ]
    },
    {
      "cell_type": "code",
      "metadata": {
        "colab": {
          "base_uri": "https://localhost:8080/"
        },
        "id": "J4mCQlqzYmpE",
        "outputId": "fe086f65-6a15-4581-b288-9c773acc59b6"
      },
      "source": [
        "### calculate binary data\n",
        "I = np.ones(shape=(3,3))\n",
        "y = np.zeros(shape=(3,8))\n",
        "\n",
        "### x_mu\n",
        "car_mu = np.around(np.mean(car_list, axis=0), decimals=3, out=None)\n",
        "print(\"Mean: \\n\", car_mu)\n",
        "\n",
        "### fill binary matrix; if x(i,k)>x_mu(k): 1, else 0\n",
        "for i in range (y.shape[0]):\n",
        "    for k in range (y.shape[1]):\n",
        "        if car_list[i,k] > car_mu[k]:\n",
        "            y[i,k] = 1\n",
        "        else:\n",
        "            y[i,k] = 0\n",
        "\n",
        "print(\"Binary matrix: \\n\", y)"
      ],
      "execution_count": 23,
      "outputs": [
        {
          "output_type": "stream",
          "text": [
            "Mean: \n",
            " [3.033 3.    3.133 3.333 2.967 3.167 3.133 2.833]\n",
            "Binary matrix: \n",
            " [[0. 1. 1. 0. 1. 1. 0. 0.]\n",
            " [1. 0. 0. 1. 0. 0. 1. 1.]\n",
            " [0. 0. 1. 0. 1. 0. 1. 0.]]\n"
          ],
          "name": "stdout"
        }
      ]
    },
    {
      "cell_type": "code",
      "metadata": {
        "colab": {
          "base_uri": "https://localhost:8080/"
        },
        "id": "c3inLfB2Yr16",
        "outputId": "31a5a4f2-cb99-4d5a-a789-66bf6345c309"
      },
      "source": [
        "### Jaccard measure\n",
        "sim = DistanceMetric.get_metric('jaccard')\n",
        "dist_jaccard = np.around(I - sim.pairwise(y), decimals=3, out=None)\n",
        "\n",
        "print(\"Jaccard measure: \\n\", dist_jaccard)"
      ],
      "execution_count": 24,
      "outputs": [
        {
          "output_type": "stream",
          "text": [
            "Jaccard measure: \n",
            " [[1.    0.    0.4  ]\n",
            " [0.    1.    0.167]\n",
            " [0.4   0.167 1.   ]]\n"
          ],
          "name": "stdout"
        }
      ]
    },
    {
      "cell_type": "code",
      "metadata": {
        "colab": {
          "base_uri": "https://localhost:8080/"
        },
        "id": "Gzr5yLbBYu3q",
        "outputId": "e0eb7777-4698-4ef0-a22e-153c416bcba0"
      },
      "source": [
        "### Simple matching\n",
        "sim = DistanceMetric.get_metric('matching')\n",
        "dist_simple = np.around(I - sim.pairwise(y), decimals=3, out=None)\n",
        "\n",
        "print(\"Simple matching: \\n\", dist_simple)"
      ],
      "execution_count": 25,
      "outputs": [
        {
          "output_type": "stream",
          "text": [
            "Simple matching: \n",
            " [[1.    0.    0.625]\n",
            " [0.    1.    0.375]\n",
            " [0.625 0.375 1.   ]]\n"
          ],
          "name": "stdout"
        }
      ]
    },
    {
      "cell_type": "code",
      "metadata": {
        "colab": {
          "base_uri": "https://localhost:8080/"
        },
        "id": "VcpB98vxYyOs",
        "outputId": "057d00d3-e841-44d5-949b-cc091269282c"
      },
      "source": [
        "### Tanimoto measure\n",
        "sim = DistanceMetric.get_metric('rogerstanimoto')\n",
        "dist_tanimoto = np.around(I - sim.pairwise(y), decimals=3, out=None)\n",
        "\n",
        "print(\"Tanimoto measure: \\n\", dist_tanimoto)"
      ],
      "execution_count": 26,
      "outputs": [
        {
          "output_type": "stream",
          "text": [
            "Tanimoto measure: \n",
            " [[1.    0.    0.455]\n",
            " [0.    1.    0.231]\n",
            " [0.455 0.231 1.   ]]\n"
          ],
          "name": "stdout"
        }
      ]
    }
  ]
}
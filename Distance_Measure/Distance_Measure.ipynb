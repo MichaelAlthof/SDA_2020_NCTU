{
 "cells": [
  {
   "cell_type": "code",
   "execution_count": 1,
   "metadata": {},
   "outputs": [],
   "source": [
    "%matplotlib inline\n",
    "import pandas as pd\n",
    "import numpy as np\n",
    "from sklearn.neighbors import DistanceMetric\n"
   ]
  },
  {
   "cell_type": "code",
   "execution_count": 2,
   "metadata": {},
   "outputs": [
    {
     "name": "stdout",
     "output_type": "stream",
     "text": [
      "\n",
      "\n",
      "Dataset for ME, NH, NY: \n"
     ]
    },
    {
     "data": {
      "text/html": [
       "<div>\n",
       "<style scoped>\n",
       "    .dataframe tbody tr th:only-of-type {\n",
       "        vertical-align: middle;\n",
       "    }\n",
       "\n",
       "    .dataframe tbody tr th {\n",
       "        vertical-align: top;\n",
       "    }\n",
       "\n",
       "    .dataframe thead th {\n",
       "        text-align: right;\n",
       "    }\n",
       "</style>\n",
       "<table border=\"1\" class=\"dataframe\">\n",
       "  <thead>\n",
       "    <tr style=\"text-align: right;\">\n",
       "      <th></th>\n",
       "      <th>HIV</th>\n",
       "      <th>Malignant</th>\n",
       "      <th>Diabetes</th>\n",
       "      <th>Alzheimer</th>\n",
       "      <th>Heart</th>\n",
       "      <th>TIA</th>\n",
       "      <th>Influenza</th>\n",
       "      <th>Respiratory Diseases</th>\n",
       "      <th>Liver</th>\n",
       "      <th>Nephritis</th>\n",
       "      <th>Accidents</th>\n",
       "      <th>Vehicle Accidents</th>\n",
       "      <th>Suicide</th>\n",
       "      <th>Assault</th>\n",
       "      <th>Firearms</th>\n",
       "    </tr>\n",
       "  </thead>\n",
       "  <tbody>\n",
       "    <tr>\n",
       "      <th>19</th>\n",
       "      <td>11.0</td>\n",
       "      <td>3218.0</td>\n",
       "      <td>385.0</td>\n",
       "      <td>476.0</td>\n",
       "      <td>2941.0</td>\n",
       "      <td>693.0</td>\n",
       "      <td>352.0</td>\n",
       "      <td>830.0</td>\n",
       "      <td>116.0</td>\n",
       "      <td>250.0</td>\n",
       "      <td>579.0</td>\n",
       "      <td>192.0</td>\n",
       "      <td>175.0</td>\n",
       "      <td>22.0</td>\n",
       "      <td>109.0</td>\n",
       "    </tr>\n",
       "    <tr>\n",
       "      <th>29</th>\n",
       "      <td>13.0</td>\n",
       "      <td>2549.0</td>\n",
       "      <td>310.0</td>\n",
       "      <td>376.0</td>\n",
       "      <td>2530.0</td>\n",
       "      <td>497.0</td>\n",
       "      <td>273.0</td>\n",
       "      <td>630.0</td>\n",
       "      <td>114.0</td>\n",
       "      <td>173.0</td>\n",
       "      <td>477.0</td>\n",
       "      <td>162.0</td>\n",
       "      <td>162.0</td>\n",
       "      <td>19.0</td>\n",
       "      <td>88.0</td>\n",
       "    </tr>\n",
       "    <tr>\n",
       "      <th>32</th>\n",
       "      <td>1644.0</td>\n",
       "      <td>35556.0</td>\n",
       "      <td>4051.0</td>\n",
       "      <td>2065.0</td>\n",
       "      <td>51985.0</td>\n",
       "      <td>6622.0</td>\n",
       "      <td>5521.0</td>\n",
       "      <td>6818.0</td>\n",
       "      <td>1224.0</td>\n",
       "      <td>2360.0</td>\n",
       "      <td>4645.0</td>\n",
       "      <td>1530.0</td>\n",
       "      <td>1189.0</td>\n",
       "      <td>901.0</td>\n",
       "      <td>1019.0</td>\n",
       "    </tr>\n",
       "  </tbody>\n",
       "</table>\n",
       "</div>"
      ],
      "text/plain": [
       "       HIV  Malignant  Diabetes  Alzheimer   Heart      TIA  Influenza  \\\n",
       "19    11.0     3218.0     385.0      476.0   2941.0   693.0      352.0   \n",
       "29    13.0     2549.0     310.0      376.0   2530.0   497.0      273.0   \n",
       "32  1644.0    35556.0    4051.0     2065.0  51985.0  6622.0     5521.0   \n",
       "\n",
       "    Respiratory Diseases   Liver  Nephritis  Accidents  Vehicle Accidents  \\\n",
       "19                 830.0   116.0      250.0      579.0              192.0   \n",
       "29                 630.0   114.0      173.0      477.0              162.0   \n",
       "32                6818.0  1224.0     2360.0     4645.0             1530.0   \n",
       "\n",
       "    Suicide   Assault  Firearms  \n",
       "19     175.0     22.0     109.0  \n",
       "29     162.0     19.0      88.0  \n",
       "32    1189.0    901.0    1019.0  "
      ]
     },
     "execution_count": 2,
     "metadata": {},
     "output_type": "execute_result"
    }
   ],
   "source": [
    "### load csv file, select specific regions: ME, NH, NY\n",
    "### note that column 18-22 are information data only\n",
    "\n",
    "df = pd.read_csv('ushealth05.csv', usecols=range(0,17))\n",
    "#print(\"Total records: \", len(df))\n",
    "#df.head(20)\n",
    "\n",
    "#df_state = df.loc[df['Area'] == 'Maine']\n",
    "df_state = df.iloc[[19, 29, 32],:]\n",
    "#print(\"\\n\\nDataset for ME, NH, NY: \")\n",
    "#df_state.head(3)\n",
    "\n",
    "df_state = df_state.drop(['Area', 'All'], axis=1)\n",
    "print(\"\\n\\nDataset for ME, NH, NY: \")\n",
    "df_state.head(3)\n"
   ]
  },
  {
   "cell_type": "code",
   "execution_count": 3,
   "metadata": {},
   "outputs": [
    {
     "name": "stdout",
     "output_type": "stream",
     "text": [
      "Data dimension:  (3, 15)\n",
      "[[1.1000e+01 3.2180e+03 3.8500e+02 4.7600e+02 2.9410e+03 6.9300e+02\n",
      "  3.5200e+02 8.3000e+02 1.1600e+02 2.5000e+02 5.7900e+02 1.9200e+02\n",
      "  1.7500e+02 2.2000e+01 1.0900e+02]\n",
      " [1.3000e+01 2.5490e+03 3.1000e+02 3.7600e+02 2.5300e+03 4.9700e+02\n",
      "  2.7300e+02 6.3000e+02 1.1400e+02 1.7300e+02 4.7700e+02 1.6200e+02\n",
      "  1.6200e+02 1.9000e+01 8.8000e+01]\n",
      " [1.6440e+03 3.5556e+04 4.0510e+03 2.0650e+03 5.1985e+04 6.6220e+03\n",
      "  5.5210e+03 6.8180e+03 1.2240e+03 2.3600e+03 4.6450e+03 1.5300e+03\n",
      "  1.1890e+03 9.0100e+02 1.0190e+03]]\n"
     ]
    }
   ],
   "source": [
    "### transfer DataFrame to Numpy array\n",
    "state_list = np.array(df_state).astype(float)\n",
    "print(\"Data dimension: \",np.shape(state_list))\n",
    "print(state_list)"
   ]
  },
  {
   "cell_type": "code",
   "execution_count": 4,
   "metadata": {},
   "outputs": [
    {
     "name": "stdout",
     "output_type": "stream",
     "text": [
      "Euclidean Distance is: \n",
      " [[    0.    857.1 59950.4]\n",
      " [  857.1     0.  60713. ]\n",
      " [59950.4 60713.      0. ]]\n"
     ]
    }
   ],
   "source": [
    "### Calculate diatance metrics for Euclidean distance\n",
    "\n",
    "dist = DistanceMetric.get_metric('euclidean')\n",
    "dist_Euc = np.around(dist.pairwise(state_list), decimals=1, out=None)\n",
    "\n",
    "print(\"Euclidean Distance is: \\n\", dist_Euc)\n"
   ]
  },
  {
   "cell_type": "code",
   "execution_count": 5,
   "metadata": {},
   "outputs": [
    {
     "name": "stdout",
     "output_type": "stream",
     "text": [
      "Manhattan Distance is: \n",
      " [[     0.   1980. 116781.]\n",
      " [  1980.      0. 118757.]\n",
      " [116781. 118757.      0.]]\n"
     ]
    }
   ],
   "source": [
    "### Calculate diatance metrics for Manhattan distance\n",
    "\n",
    "dist = DistanceMetric.get_metric('manhattan')\n",
    "dist_Man = np.around(dist.pairwise(state_list), decimals=2, out=None)\n",
    "\n",
    "print(\"Manhattan Distance is: \\n\", dist_Man)"
   ]
  },
  {
   "cell_type": "code",
   "execution_count": 6,
   "metadata": {},
   "outputs": [
    {
     "name": "stdout",
     "output_type": "stream",
     "text": [
      "Maximum Distance is: \n",
      " [[    0.   669. 49044.]\n",
      " [  669.     0. 49455.]\n",
      " [49044. 49455.     0.]]\n"
     ]
    }
   ],
   "source": [
    "### Calculate diatance metrics for Maximum distance\n",
    "\n",
    "dist = DistanceMetric.get_metric('chebyshev')\n",
    "dist_Max = np.around(dist.pairwise(state_list), decimals=2, out=None)\n",
    "\n",
    "print(\"Maximum Distance is: \\n\", dist_Max)"
   ]
  }
 ],
 "metadata": {
  "kernelspec": {
   "display_name": "Python 3",
   "language": "python",
   "name": "python3"
  },
  "language_info": {
   "codemirror_mode": {
    "name": "ipython",
    "version": 3
   },
   "file_extension": ".py",
   "mimetype": "text/x-python",
   "name": "python",
   "nbconvert_exporter": "python",
   "pygments_lexer": "ipython3",
   "version": "3.7.3"
  }
 },
 "nbformat": 4,
 "nbformat_minor": 4
}

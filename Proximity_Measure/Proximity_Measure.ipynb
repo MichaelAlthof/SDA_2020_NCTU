{
 "cells": [
  {
   "attachments": {},
   "cell_type": "markdown",
   "metadata": {},
   "source": [
    "# Proximity Measure for Binary Variables\n",
    "\n",
    "Briefing of Algorithm:\n",
    "<br>\n",
    "▶ Read .dat file and convert to Numpy array\n",
    "<br>\n",
    "▶ Calculate Mean and Binary matrix\n",
    "<br>\n",
    "▶ Calculate Similarity Coefficient\n",
    "<br>\n",
    "▶ Calculate Distance (distance = 1 – similarity coefficient)\n"
   ]
  },
  {
   "cell_type": "code",
   "execution_count": 1,
   "metadata": {},
   "outputs": [],
   "source": [
    "%matplotlib inline\n",
    "import pandas as pd\n",
    "import numpy as np\n",
    "\n",
    "from sklearn.neighbors import DistanceMetric\n",
    "from scipy.spatial import distance\n"
   ]
  },
  {
   "cell_type": "code",
   "execution_count": 2,
   "metadata": {},
   "outputs": [
    {
     "name": "stdout",
     "output_type": "stream",
     "text": [
      "Dataset for Renault, Rover, Toyota: \n"
     ]
    },
    {
     "data": {
      "text/html": [
       "<div>\n",
       "<style scoped>\n",
       "    .dataframe tbody tr th:only-of-type {\n",
       "        vertical-align: middle;\n",
       "    }\n",
       "\n",
       "    .dataframe tbody tr th {\n",
       "        vertical-align: top;\n",
       "    }\n",
       "\n",
       "    .dataframe thead th {\n",
       "        text-align: right;\n",
       "    }\n",
       "</style>\n",
       "<table border=\"1\" class=\"dataframe\">\n",
       "  <thead>\n",
       "    <tr style=\"text-align: right;\">\n",
       "      <th></th>\n",
       "      <th>0</th>\n",
       "      <th>1</th>\n",
       "      <th>2</th>\n",
       "      <th>3</th>\n",
       "      <th>4</th>\n",
       "      <th>5</th>\n",
       "      <th>6</th>\n",
       "      <th>7</th>\n",
       "      <th>8</th>\n",
       "    </tr>\n",
       "  </thead>\n",
       "  <tbody>\n",
       "    <tr>\n",
       "      <th>16</th>\n",
       "      <td>Re19</td>\n",
       "      <td>2.7</td>\n",
       "      <td>3.3</td>\n",
       "      <td>3.4</td>\n",
       "      <td>3.0</td>\n",
       "      <td>3.1</td>\n",
       "      <td>3.4</td>\n",
       "      <td>3.0</td>\n",
       "      <td>2.7</td>\n",
       "    </tr>\n",
       "    <tr>\n",
       "      <th>17</th>\n",
       "      <td>Rove</td>\n",
       "      <td>3.9</td>\n",
       "      <td>2.8</td>\n",
       "      <td>2.6</td>\n",
       "      <td>4.0</td>\n",
       "      <td>2.6</td>\n",
       "      <td>3.0</td>\n",
       "      <td>3.2</td>\n",
       "      <td>3.0</td>\n",
       "    </tr>\n",
       "    <tr>\n",
       "      <th>18</th>\n",
       "      <td>ToCo</td>\n",
       "      <td>2.5</td>\n",
       "      <td>2.9</td>\n",
       "      <td>3.4</td>\n",
       "      <td>3.0</td>\n",
       "      <td>3.2</td>\n",
       "      <td>3.1</td>\n",
       "      <td>3.2</td>\n",
       "      <td>2.8</td>\n",
       "    </tr>\n",
       "  </tbody>\n",
       "</table>\n",
       "</div>"
      ],
      "text/plain": [
       "       0    1    2    3    4    5    6    7    8\n",
       "16  Re19  2.7  3.3  3.4  3.0  3.1  3.4  3.0  2.7\n",
       "17  Rove  3.9  2.8  2.6  4.0  2.6  3.0  3.2  3.0\n",
       "18  ToCo  2.5  2.9  3.4  3.0  3.2  3.1  3.2  2.8"
      ]
     },
     "execution_count": 2,
     "metadata": {},
     "output_type": "execute_result"
    }
   ],
   "source": [
    "### load dat file, select specific car vendor: Renault, Rover, Toyota\n",
    "\n",
    "df = pd.read_csv('carmean2.dat', sep =\"\\s+\", header=None)\n",
    "#print(\"Total records: \", len(df))\n",
    "#df\n",
    "\n",
    "df_car = df.iloc[16:19,:]\n",
    "print(\"Dataset for Renault, Rover, Toyota: \")\n",
    "df_car\n"
   ]
  },
  {
   "cell_type": "code",
   "execution_count": 3,
   "metadata": {},
   "outputs": [
    {
     "data": {
      "text/html": [
       "<div>\n",
       "<style scoped>\n",
       "    .dataframe tbody tr th:only-of-type {\n",
       "        vertical-align: middle;\n",
       "    }\n",
       "\n",
       "    .dataframe tbody tr th {\n",
       "        vertical-align: top;\n",
       "    }\n",
       "\n",
       "    .dataframe thead th {\n",
       "        text-align: right;\n",
       "    }\n",
       "</style>\n",
       "<table border=\"1\" class=\"dataframe\">\n",
       "  <thead>\n",
       "    <tr style=\"text-align: right;\">\n",
       "      <th></th>\n",
       "      <th>1</th>\n",
       "      <th>2</th>\n",
       "      <th>3</th>\n",
       "      <th>4</th>\n",
       "      <th>5</th>\n",
       "      <th>6</th>\n",
       "      <th>7</th>\n",
       "      <th>8</th>\n",
       "    </tr>\n",
       "  </thead>\n",
       "  <tbody>\n",
       "    <tr>\n",
       "      <th>16</th>\n",
       "      <td>2.7</td>\n",
       "      <td>3.3</td>\n",
       "      <td>3.4</td>\n",
       "      <td>3.0</td>\n",
       "      <td>3.1</td>\n",
       "      <td>3.4</td>\n",
       "      <td>3.0</td>\n",
       "      <td>2.7</td>\n",
       "    </tr>\n",
       "    <tr>\n",
       "      <th>17</th>\n",
       "      <td>3.9</td>\n",
       "      <td>2.8</td>\n",
       "      <td>2.6</td>\n",
       "      <td>4.0</td>\n",
       "      <td>2.6</td>\n",
       "      <td>3.0</td>\n",
       "      <td>3.2</td>\n",
       "      <td>3.0</td>\n",
       "    </tr>\n",
       "    <tr>\n",
       "      <th>18</th>\n",
       "      <td>2.5</td>\n",
       "      <td>2.9</td>\n",
       "      <td>3.4</td>\n",
       "      <td>3.0</td>\n",
       "      <td>3.2</td>\n",
       "      <td>3.1</td>\n",
       "      <td>3.2</td>\n",
       "      <td>2.8</td>\n",
       "    </tr>\n",
       "  </tbody>\n",
       "</table>\n",
       "</div>"
      ],
      "text/plain": [
       "      1    2    3    4    5    6    7    8\n",
       "16  2.7  3.3  3.4  3.0  3.1  3.4  3.0  2.7\n",
       "17  3.9  2.8  2.6  4.0  2.6  3.0  3.2  3.0\n",
       "18  2.5  2.9  3.4  3.0  3.2  3.1  3.2  2.8"
      ]
     },
     "execution_count": 3,
     "metadata": {},
     "output_type": "execute_result"
    }
   ],
   "source": [
    "df_car = df_car.loc[:,1:8]\n",
    "df_car"
   ]
  },
  {
   "cell_type": "code",
   "execution_count": 4,
   "metadata": {},
   "outputs": [
    {
     "name": "stdout",
     "output_type": "stream",
     "text": [
      "Data matrix is: \n",
      " [[2.7 3.3 3.4 3.  3.1 3.4 3.  2.7]\n",
      " [3.9 2.8 2.6 4.  2.6 3.  3.2 3. ]\n",
      " [2.5 2.9 3.4 3.  3.2 3.1 3.2 2.8]]\n"
     ]
    }
   ],
   "source": [
    "### transfer DataFrame to Numpy array\n",
    "\n",
    "car_list = np.array(df_car).astype(float)\n",
    "#print(\"Data dimension: \",np.shape(car_list))\n",
    "print(\"Data matrix is: \\n\", car_list)"
   ]
  },
  {
   "cell_type": "code",
   "execution_count": 5,
   "metadata": {},
   "outputs": [
    {
     "name": "stdout",
     "output_type": "stream",
     "text": [
      "Mean is: \n",
      " [3.033 3.    3.133 3.333 2.967 3.167 3.133 2.833]\n",
      "Binary matrix is: \n",
      " [[0. 1. 1. 0. 1. 1. 0. 0.]\n",
      " [1. 0. 0. 1. 0. 0. 1. 1.]\n",
      " [0. 0. 1. 0. 1. 0. 1. 0.]]\n"
     ]
    }
   ],
   "source": [
    "### calculate binary data\n",
    "\n",
    "I = np.ones(shape=(3,3))\n",
    "y = np.zeros(shape=(3,8))\n",
    "\n",
    "### x_mu\n",
    "car_mu = np.around(np.mean(car_list, axis=0), decimals=3, out=None)\n",
    "print(\"Mean is: \\n\", car_mu)\n",
    "\n",
    "### fill binary matrix; if x(i,k)>x_mu(k): 1, else 0\n",
    "for i in range (y.shape[0]):\n",
    "    for k in range (y.shape[1]):\n",
    "        if car_list[i,k] > car_mu[k]:\n",
    "            y[i,k] = 1\n",
    "        else:\n",
    "            y[i,k] = 0\n",
    "\n",
    "print(\"Binary matrix is: \\n\", y)"
   ]
  },
  {
   "cell_type": "code",
   "execution_count": 6,
   "metadata": {},
   "outputs": [
    {
     "name": "stdout",
     "output_type": "stream",
     "text": [
      "Jaccard measure is: \n",
      " [[1.    0.    0.4  ]\n",
      " [0.    1.    0.167]\n",
      " [0.4   0.167 1.   ]]\n"
     ]
    }
   ],
   "source": [
    "### Calculate Jaccard measure\n",
    "### Jaccard distance = I - Jaccard similarity coefficient\n",
    "\n",
    "sim = DistanceMetric.get_metric('jaccard')\n",
    "dist_jac = np.around(I - sim.pairwise(y), decimals=3, out=None)\n",
    "\n",
    "print(\"Jaccard measure is: \\n\", dist_jac)"
   ]
  },
  {
   "cell_type": "code",
   "execution_count": 7,
   "metadata": {},
   "outputs": [
    {
     "name": "stdout",
     "output_type": "stream",
     "text": [
      "Simple matching is: \n",
      " [[1.    0.    0.625]\n",
      " [0.    1.    0.375]\n",
      " [0.625 0.375 1.   ]]\n"
     ]
    }
   ],
   "source": [
    "### Calculate Simple matching\n",
    "## SMD(simple matching distance) = I- SMC(simple matching coefficient)\n",
    "\n",
    "sim = DistanceMetric.get_metric('matching')\n",
    "dist_simple = np.around(I - sim.pairwise(y), decimals=3, out=None)\n",
    "\n",
    "print(\"Simple matching is: \\n\", dist_simple)"
   ]
  },
  {
   "cell_type": "code",
   "execution_count": 8,
   "metadata": {},
   "outputs": [
    {
     "name": "stdout",
     "output_type": "stream",
     "text": [
      "Tanimoto measure is: \n",
      " [[1.    0.    0.455]\n",
      " [0.    1.    0.231]\n",
      " [0.455 0.231 1.   ]]\n"
     ]
    }
   ],
   "source": [
    "### Calculate Tanimoto measure\n",
    "### Tanimoto distance = I - Tanimoto similarity coefficient\n",
    "\n",
    "sim = DistanceMetric.get_metric('rogerstanimoto')\n",
    "dist_tani = np.around(I - sim.pairwise(y), decimals=3, out=None)\n",
    "\n",
    "print(\"Tanimoto measure is: \\n\", dist_tani)"
   ]
  },
  {
   "cell_type": "code",
   "execution_count": null,
   "metadata": {},
   "outputs": [],
   "source": []
  }
 ],
 "metadata": {
  "kernelspec": {
   "display_name": "Python 3",
   "language": "python",
   "name": "python3"
  },
  "language_info": {
   "codemirror_mode": {
    "name": "ipython",
    "version": 3
   },
   "file_extension": ".py",
   "mimetype": "text/x-python",
   "name": "python",
   "nbconvert_exporter": "python",
   "pygments_lexer": "ipython3",
   "version": "3.7.3"
  }
 },
 "nbformat": 4,
 "nbformat_minor": 4
}

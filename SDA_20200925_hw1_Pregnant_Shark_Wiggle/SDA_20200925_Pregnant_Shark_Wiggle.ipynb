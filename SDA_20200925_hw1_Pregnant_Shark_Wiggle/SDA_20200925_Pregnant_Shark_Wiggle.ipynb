{
  "nbformat": 4,
  "nbformat_minor": 0,
  "metadata": {
    "colab": {
      "name": "Andreas Rony WIjaya_0852623_hw1.ipynb",
      "provenance": [],
      "collapsed_sections": []
    },
    "kernelspec": {
      "name": "python3",
      "display_name": "Python 3"
    }
  },
  "cells": [
    {
      "cell_type": "markdown",
      "metadata": {
        "id": "NgRpY0V1-BiM"
      },
      "source": [
        "Pregnant Shark Wiggle"
      ]
    },
    {
      "cell_type": "markdown",
      "metadata": {
        "id": "Um99t2XrnQ8Y"
      },
      "source": [
        "vonNeuman_elephant.py\n",
        "    \"With four parameters I can fit an elephant,\n",
        "       and with five I can make him wiggle his trunk.\"\n",
        "\n",
        "Original Versions:\n",
        "\n",
        "    Author[1]: Piotr A. Zolnierczuk (zolnierczukp at ornl dot gov)\n",
        "    Retrieved on 14 September 2011 from\n",
        "    http://www.johndcook.com/blog/2011/06/21/how-to-fit-an-elephant/\n",
        "Modified to wiggle trunk:\n",
        "    2 October 2011 by David Bailey (http://www.physics.utoronto.ca/~dbailey)\n",
        "\n",
        "    Author[2]:\n",
        "    Advanced Physics Laboratory\n",
        "    https://www.physics.utoronto.ca/~phy326/python/\n",
        "\n",
        "Modified to Pregnant Shark Wiggle:\n",
        "    28 October 2020 by Andreas Rony Wijaya\n",
        "\n",
        "\n",
        "Based on the paper:\n",
        "    \"Drawing an elephant with four complex parameters\", by\n",
        "    Jurgen Mayer, Khaled Khairy, and Jonathon Howard,\n",
        "    Am. J. Phys. 78, 648 (2010), DOI:10.1119/1.3254017\n",
        "\n",
        "    The paper does not specify how the wiggle parameter controls the\n",
        "    trunk, so a guess was made.\n",
        "\n",
        "Inspired by John von Neumann's famous quote (above) about overfitting data.\n",
        "    Attributed to von Neumann by Enrico Fermi, as quoted by\n",
        "      Freeman Dyson in \"A meeting with Enrico Fermi\" in\n",
        "      Nature 427 (22 January 2004) p. 297\n",
        "      \n",
        "Python Version: 3.6\n",
        "Modified based on author[2]'s work\n",
        "Author: Junjie Hu\n",
        "\n",
        "Overfiting problem in trading strategy stated:\n",
        "Bailey, D., Borwein, J., Lopez de Prado, M., & Zhu, Q. (2014).\n",
        "Pseudo-mathematics and financial charlatanism: The effects of backtest overfitting on out-of-sample performance."
      ]
    },
    {
      "cell_type": "code",
      "metadata": {
        "id": "bCNEDGEp-HWg"
      },
      "source": [
        "import matplotlib"
      ],
      "execution_count": null,
      "outputs": []
    },
    {
      "cell_type": "markdown",
      "metadata": {
        "id": "nNxsOsKWng1w"
      },
      "source": [
        "you might want to use the following in terminal if the graphviz does not work:\n",
        "conda install -c conda-forge ffmpeg\n",
        "All should be fine though if you use jupyter notebook"
      ]
    },
    {
      "cell_type": "code",
      "metadata": {
        "id": "M3ducUEfjNxh"
      },
      "source": [
        "matplotlib.use('TKAgg')\n",
        "from matplotlib import animation\n",
        "from numpy import append, cos, linspace, pi, sin, zeros\n",
        "import matplotlib.pyplot as plt"
      ],
      "execution_count": null,
      "outputs": []
    },
    {
      "cell_type": "markdown",
      "metadata": {
        "id": "Xcd3PPRT-4mm"
      },
      "source": [
        "**The Fourier Coordinate Expansion**\n",
        "\n",
        "The coefficients come from the four input parameters\n",
        "\n",
        "p1=70-25j, p2=-10-15j, p3=8-10j, p4=-14-60j\n",
        "\n",
        "Then obtained the function,\n",
        "\n",
        "fx(t)=70sin(t)-10sin(2t)+8cos(3t)-14cos(5t)\n",
        "\n",
        "fy(t)=-60cos(t)-25sin(t)-15sin(2t)-10sin(3t)\n"
      ]
    },
    {
      "cell_type": "code",
      "metadata": {
        "id": "GBI2Gxys-mcP",
        "outputId": "96aa3207-665e-43b2-f58c-77b367583806",
        "colab": {
          "base_uri": "https://localhost:8080/",
          "height": 248
        }
      },
      "source": [
        "# Pregnant Shark parameters\n",
        "parameters = [70 - 25j, -10 - 15j, 8 - 10j, -14 - 60j, -20 + 45j]\n",
        "\n",
        "def fourier(t, C):\n",
        "    f = zeros(t.shape)\n",
        "    for k in range(len(C)):\n",
        "        f += C.real[k] * cos(k * t) + C.imag[k] * sin(k * t)\n",
        "    return f\n",
        "\n",
        "def shark(t, p):\n",
        "    npar = 6\n",
        "\n",
        "    Cx = zeros((npar,), dtype='complex')\n",
        "    Cy = zeros((npar,), dtype='complex')\n",
        "\n",
        "    Cx[1] = p[0].real * 1j\n",
        "    Cy[1] = p[3].imag + p[0].imag * 1j\n",
        "\n",
        "    Cx[2] = p[1].real * 1j\n",
        "    Cy[2] = p[1].imag * 1j\n",
        "\n",
        "    Cx[3] = p[2].real\n",
        "    Cy[3] = p[2].imag * 1j\n",
        "\n",
        "    Cx[5] = p[3].real\n",
        "\n",
        "    x = append(fourier(t, Cy), [p[4].imag])\n",
        "    y = -append(fourier(t, Cx), [-p[4].imag])\n",
        "\n",
        "    return x, y\n",
        "\n",
        "def init_plot():\n",
        "    # draw the body of the shark\n",
        "    x, y = shark(linspace(2 * pi + 0.9 * pi, 0.4 + 3.3 * pi, 1000), parameters)\n",
        "    for ii in range(len(y) - 1):\n",
        "        y[ii] -= sin(((x[ii] - x[0]) * pi / len(y))) * sin(float(0)) * parameters[4].real\n",
        "    head.set_data(x, y)\n",
        "    return head,\n",
        "\n",
        "# move the head and tail\n",
        "def move_head(i):\n",
        "    x, y = shark(linspace(1.9 * pi + 0.9 * pi, 0.4 + 4.6 * pi, 1000), parameters)\n",
        "    # move head to new position (but don't move eye stored at end or array)\n",
        "    for ii in range(len(y) - 1):\n",
        "        y[ii] -= sin(((x[ii] - x[0]) * pi / len(y))) * sin(float(i)) * parameters[4].real\n",
        "    head.set_data(x, y)\n",
        "    return head,\n",
        "fig, ax = plt.subplots()\n",
        "\n",
        "# initial the shark body\n",
        "x, y = shark(t=linspace(0.4 + 1.3 * pi, 2 * pi + 0.9 * pi, 1000), p=parameters)\n",
        "plt.plot(x, y, 'b.')\n",
        "plt.xlim([-95, 100])\n",
        "plt.ylim([-100, 100])\n",
        "plt.axis('off')\n",
        "head, = ax.plot([], [], 'b.')  # initialize head\n",
        "ani = animation.FuncAnimation(fig=fig,\n",
        "                              func=move_head,\n",
        "                              frames=1000,\n",
        "                              init_func=init_plot,\n",
        "                              interval=500,\n",
        "                              blit=False,\n",
        "                              repeat=True)\n",
        "plt.show()\n",
        "Writer = animation.writers['ffmpeg']\n",
        "metadata = dict(title='Pregnant Shark Wiggling', artist='Andreas Rony Wijaya')\n",
        "writer = Writer(fps=30, metadata=metadata, bitrate=1800)\n",
        "ani.save(filename='Pregnant_Shark_wiggle.mp4', writer=writer)"
      ],
      "execution_count": null,
      "outputs": [
        {
          "output_type": "display_data",
          "data": {
            "image/png": "[encoded data removed]",
            "text/plain": [
              "<Figure size 432x288 with 1 Axes>"
            ]
          },
          "metadata": {
            "tags": [],
            "needs_background": "light"
          }
        }
      ]
    }
  ]
}